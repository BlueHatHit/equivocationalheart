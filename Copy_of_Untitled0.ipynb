{
  "nbformat": 4,
  "nbformat_minor": 0,
  "metadata": {
    "colab": {
      "provenance": [],
      "authorship_tag": "ABX9TyNVrVwFZVgujMZo6s84MVBM",
      "include_colab_link": true
    },
    "kernelspec": {
      "name": "python3",
      "display_name": "Python 3"
    },
    "language_info": {
      "name": "python"
    }
  },
  "cells": [
    {
      "cell_type": "markdown",
      "metadata": {
        "id": "view-in-github",
        "colab_type": "text"
      },
      "source": [
        "<a href=\"https://colab.research.google.com/github/BlueHatHit/equivocationalheart/blob/main/Copy_of_Untitled0.ipynb\" target=\"_parent\"><img src=\"https://colab.research.google.com/assets/colab-badge.svg\" alt=\"Open In Colab\"/></a>"
      ]
    },
    {
      "cell_type": "code",
      "execution_count": 1,
      "metadata": {
        "id": "pE87p7w8880-",
        "colab": {
          "base_uri": "https://localhost:8080/"
        },
        "outputId": "aa073fb4-dfff-48b2-e9c9-3752227b0ad8"
      },
      "outputs": [
        {
          "output_type": "stream",
          "name": "stdout",
          "text": [
            "Collecting brian2\n",
            "  Downloading brian2-2.9.0-cp311-cp311-manylinux_2_17_x86_64.manylinux2014_x86_64.whl.metadata (6.2 kB)\n",
            "Collecting qsimcirq\n",
            "  Downloading qsimcirq-0.22.0-cp311-cp311-manylinux_2_17_x86_64.manylinux2014_x86_64.whl.metadata (9.3 kB)\n",
            "Requirement already satisfied: numpy in /usr/local/lib/python3.11/dist-packages (2.0.2)\n",
            "Requirement already satisfied: sympy in /usr/local/lib/python3.11/dist-packages (1.13.1)\n",
            "Collecting twisted\n",
            "  Downloading twisted-25.5.0-py3-none-any.whl.metadata (22 kB)\n",
            "Requirement already satisfied: cython>=0.29.21 in /usr/local/lib/python3.11/dist-packages (from brian2) (3.0.12)\n",
            "Requirement already satisfied: pyparsing in /usr/local/lib/python3.11/dist-packages (from brian2) (3.2.3)\n",
            "Requirement already satisfied: jinja2>=2.7 in /usr/local/lib/python3.11/dist-packages (from brian2) (3.1.6)\n",
            "Requirement already satisfied: setuptools>=61 in /usr/local/lib/python3.11/dist-packages (from brian2) (75.2.0)\n",
            "Requirement already satisfied: packaging in /usr/local/lib/python3.11/dist-packages (from brian2) (25.0)\n",
            "Requirement already satisfied: absl-py in /usr/local/lib/python3.11/dist-packages (from qsimcirq) (1.4.0)\n",
            "Collecting cirq-core~=1.0 (from qsimcirq)\n",
            "  Downloading cirq_core-1.6.0-py3-none-any.whl.metadata (4.8 kB)\n",
            "Collecting pybind11[global] (from qsimcirq)\n",
            "  Downloading pybind11-3.0.0-py3-none-any.whl.metadata (10.0 kB)\n",
            "Requirement already satisfied: typing_extensions in /usr/local/lib/python3.11/dist-packages (from qsimcirq) (4.14.1)\n",
            "Requirement already satisfied: mpmath<1.4,>=1.1.0 in /usr/local/lib/python3.11/dist-packages (from sympy) (1.3.0)\n",
            "Requirement already satisfied: attrs>=22.2.0 in /usr/local/lib/python3.11/dist-packages (from twisted) (25.3.0)\n",
            "Collecting automat>=24.8.0 (from twisted)\n",
            "  Downloading automat-25.4.16-py3-none-any.whl.metadata (8.4 kB)\n",
            "Collecting constantly>=15.1 (from twisted)\n",
            "  Downloading constantly-23.10.4-py3-none-any.whl.metadata (1.8 kB)\n",
            "Collecting hyperlink>=17.1.1 (from twisted)\n",
            "  Downloading hyperlink-21.0.0-py2.py3-none-any.whl.metadata (1.5 kB)\n",
            "Collecting incremental>=24.7.0 (from twisted)\n",
            "  Downloading incremental-24.7.2-py3-none-any.whl.metadata (8.1 kB)\n",
            "Collecting zope-interface>=5 (from twisted)\n",
            "  Downloading zope.interface-7.2-cp311-cp311-manylinux_2_5_x86_64.manylinux1_x86_64.manylinux_2_17_x86_64.manylinux2014_x86_64.whl.metadata (44 kB)\n",
            "\u001b[2K     \u001b[90m━━━━━━━━━━━━━━━━━━━━━━━━━━━━━━━━━━━━━━━━\u001b[0m \u001b[32m44.4/44.4 kB\u001b[0m \u001b[31m2.4 MB/s\u001b[0m eta \u001b[36m0:00:00\u001b[0m\n",
            "\u001b[?25hCollecting duet>=0.2.8 (from cirq-core~=1.0->qsimcirq)\n",
            "  Downloading duet-0.2.9-py3-none-any.whl.metadata (2.3 kB)\n",
            "Requirement already satisfied: matplotlib~=3.8 in /usr/local/lib/python3.11/dist-packages (from cirq-core~=1.0->qsimcirq) (3.10.0)\n",
            "Requirement already satisfied: networkx~=3.4 in /usr/local/lib/python3.11/dist-packages (from cirq-core~=1.0->qsimcirq) (3.5)\n",
            "Requirement already satisfied: pandas~=2.1 in /usr/local/lib/python3.11/dist-packages (from cirq-core~=1.0->qsimcirq) (2.2.2)\n",
            "Requirement already satisfied: sortedcontainers~=2.0 in /usr/local/lib/python3.11/dist-packages (from cirq-core~=1.0->qsimcirq) (2.4.0)\n",
            "Requirement already satisfied: scipy~=1.12 in /usr/local/lib/python3.11/dist-packages (from cirq-core~=1.0->qsimcirq) (1.16.0)\n",
            "Requirement already satisfied: tqdm>=4.12 in /usr/local/lib/python3.11/dist-packages (from cirq-core~=1.0->qsimcirq) (4.67.1)\n",
            "Requirement already satisfied: idna>=2.5 in /usr/local/lib/python3.11/dist-packages (from hyperlink>=17.1.1->twisted) (3.10)\n",
            "Requirement already satisfied: MarkupSafe>=2.0 in /usr/local/lib/python3.11/dist-packages (from jinja2>=2.7->brian2) (3.0.2)\n",
            "Collecting pybind11-global==3.0.0 (from pybind11[global]->qsimcirq)\n",
            "  Downloading pybind11_global-3.0.0-py3-none-any.whl.metadata (9.9 kB)\n",
            "Requirement already satisfied: contourpy>=1.0.1 in /usr/local/lib/python3.11/dist-packages (from matplotlib~=3.8->cirq-core~=1.0->qsimcirq) (1.3.2)\n",
            "Requirement already satisfied: cycler>=0.10 in /usr/local/lib/python3.11/dist-packages (from matplotlib~=3.8->cirq-core~=1.0->qsimcirq) (0.12.1)\n",
            "Requirement already satisfied: fonttools>=4.22.0 in /usr/local/lib/python3.11/dist-packages (from matplotlib~=3.8->cirq-core~=1.0->qsimcirq) (4.59.0)\n",
            "Requirement already satisfied: kiwisolver>=1.3.1 in /usr/local/lib/python3.11/dist-packages (from matplotlib~=3.8->cirq-core~=1.0->qsimcirq) (1.4.8)\n",
            "Requirement already satisfied: pillow>=8 in /usr/local/lib/python3.11/dist-packages (from matplotlib~=3.8->cirq-core~=1.0->qsimcirq) (11.3.0)\n",
            "Requirement already satisfied: python-dateutil>=2.7 in /usr/local/lib/python3.11/dist-packages (from matplotlib~=3.8->cirq-core~=1.0->qsimcirq) (2.9.0.post0)\n",
            "Requirement already satisfied: pytz>=2020.1 in /usr/local/lib/python3.11/dist-packages (from pandas~=2.1->cirq-core~=1.0->qsimcirq) (2025.2)\n",
            "Requirement already satisfied: tzdata>=2022.7 in /usr/local/lib/python3.11/dist-packages (from pandas~=2.1->cirq-core~=1.0->qsimcirq) (2025.2)\n",
            "Requirement already satisfied: six>=1.5 in /usr/local/lib/python3.11/dist-packages (from python-dateutil>=2.7->matplotlib~=3.8->cirq-core~=1.0->qsimcirq) (1.17.0)\n",
            "Downloading brian2-2.9.0-cp311-cp311-manylinux_2_17_x86_64.manylinux2014_x86_64.whl (1.8 MB)\n",
            "\u001b[2K   \u001b[90m━━━━━━━━━━━━━━━━━━━━━━━━━━━━━━━━━━━━━━━━\u001b[0m \u001b[32m1.8/1.8 MB\u001b[0m \u001b[31m27.0 MB/s\u001b[0m eta \u001b[36m0:00:00\u001b[0m\n",
            "\u001b[?25hDownloading qsimcirq-0.22.0-cp311-cp311-manylinux_2_17_x86_64.manylinux2014_x86_64.whl (1.7 MB)\n",
            "\u001b[2K   \u001b[90m━━━━━━━━━━━━━━━━━━━━━━━━━━━━━━━━━━━━━━━━\u001b[0m \u001b[32m1.7/1.7 MB\u001b[0m \u001b[31m57.1 MB/s\u001b[0m eta \u001b[36m0:00:00\u001b[0m\n",
            "\u001b[?25hDownloading twisted-25.5.0-py3-none-any.whl (3.2 MB)\n",
            "\u001b[2K   \u001b[90m━━━━━━━━━━━━━━━━━━━━━━━━━━━━━━━━━━━━━━━━\u001b[0m \u001b[32m3.2/3.2 MB\u001b[0m \u001b[31m64.8 MB/s\u001b[0m eta \u001b[36m0:00:00\u001b[0m\n",
            "\u001b[?25hDownloading automat-25.4.16-py3-none-any.whl (42 kB)\n",
            "\u001b[2K   \u001b[90m━━━━━━━━━━━━━━━━━━━━━━━━━━━━━━━━━━━━━━━━\u001b[0m \u001b[32m42.8/42.8 kB\u001b[0m \u001b[31m3.0 MB/s\u001b[0m eta \u001b[36m0:00:00\u001b[0m\n",
            "\u001b[?25hDownloading cirq_core-1.6.0-py3-none-any.whl (2.0 MB)\n",
            "\u001b[2K   \u001b[90m━━━━━━━━━━━━━━━━━━━━━━━━━━━━━━━━━━━━━━━━\u001b[0m \u001b[32m2.0/2.0 MB\u001b[0m \u001b[31m55.9 MB/s\u001b[0m eta \u001b[36m0:00:00\u001b[0m\n",
            "\u001b[?25hDownloading constantly-23.10.4-py3-none-any.whl (13 kB)\n",
            "Downloading hyperlink-21.0.0-py2.py3-none-any.whl (74 kB)\n",
            "\u001b[2K   \u001b[90m━━━━━━━━━━━━━━━━━━━━━━━━━━━━━━━━━━━━━━━━\u001b[0m \u001b[32m74.6/74.6 kB\u001b[0m \u001b[31m5.1 MB/s\u001b[0m eta \u001b[36m0:00:00\u001b[0m\n",
            "\u001b[?25hDownloading incremental-24.7.2-py3-none-any.whl (20 kB)\n",
            "Downloading zope.interface-7.2-cp311-cp311-manylinux_2_5_x86_64.manylinux1_x86_64.manylinux_2_17_x86_64.manylinux2014_x86_64.whl (259 kB)\n",
            "\u001b[2K   \u001b[90m━━━━━━━━━━━━━━━━━━━━━━━━━━━━━━━━━━━━━━━━\u001b[0m \u001b[32m259.8/259.8 kB\u001b[0m \u001b[31m17.9 MB/s\u001b[0m eta \u001b[36m0:00:00\u001b[0m\n",
            "\u001b[?25hDownloading pybind11_global-3.0.0-py3-none-any.whl (536 kB)\n",
            "\u001b[2K   \u001b[90m━━━━━━━━━━━━━━━━━━━━━━━━━━━━━━━━━━━━━━━━\u001b[0m \u001b[32m536.3/536.3 kB\u001b[0m \u001b[31m23.8 MB/s\u001b[0m eta \u001b[36m0:00:00\u001b[0m\n",
            "\u001b[?25hDownloading duet-0.2.9-py3-none-any.whl (29 kB)\n",
            "Downloading pybind11-3.0.0-py3-none-any.whl (292 kB)\n",
            "\u001b[2K   \u001b[90m━━━━━━━━━━━━━━━━━━━━━━━━━━━━━━━━━━━━━━━━\u001b[0m \u001b[32m292.1/292.1 kB\u001b[0m \u001b[31m20.0 MB/s\u001b[0m eta \u001b[36m0:00:00\u001b[0m\n",
            "\u001b[?25hInstalling collected packages: zope-interface, pybind11-global, pybind11, incremental, hyperlink, duet, constantly, automat, twisted, brian2, cirq-core, qsimcirq\n",
            "Successfully installed automat-25.4.16 brian2-2.9.0 cirq-core-1.6.0 constantly-23.10.4 duet-0.2.9 hyperlink-21.0.0 incremental-24.7.2 pybind11-3.0.0 pybind11-global-3.0.0 qsimcirq-0.22.0 twisted-25.5.0 zope-interface-7.2\n"
          ]
        }
      ],
      "source": [
        "!pip install brian2 qsimcirq numpy sympy twisted"
      ]
    },
    {
      "cell_type": "code",
      "source": [
        "from brian2 import *\n",
        "\n",
        "# Define communicator neuron group\n",
        "start_scope()\n",
        "n = 100\n",
        "tau = 10*ms\n",
        "eqs = '''\n",
        "dv/dt = (1.0 - v)/tau : 1\n",
        "\n",
        "G = NeuronGroup(n, eqs, threshold='v>0.8', reset='v=0', method='exact')\n",
        "G.v = 'rand()'\n",
        "M = StateMonitor(G, 'v', record=True)\n",
        "run(100*ms)\n"
      ],
      "metadata": {
        "id": "KTH7lBhT9Y_N",
        "outputId": "e36d409c-70da-4617-ad9e-5d3af1a2eb8f",
        "colab": {
          "base_uri": "https://localhost:8080/",
          "height": 108
        }
      },
      "execution_count": 3,
      "outputs": [
        {
          "output_type": "error",
          "ename": "SyntaxError",
          "evalue": "incomplete input (ipython-input-3-2893939104.py, line 7)",
          "traceback": [
            "\u001b[0;36m  File \u001b[0;32m\"/tmp/ipython-input-3-2893939104.py\"\u001b[0;36m, line \u001b[0;32m7\u001b[0m\n\u001b[0;31m    eqs = '''\u001b[0m\n\u001b[0m          ^\u001b[0m\n\u001b[0;31mSyntaxError\u001b[0m\u001b[0;31m:\u001b[0m incomplete input\n"
          ]
        }
      ]
    },
    {
      "cell_type": "code",
      "source": [
        "!pip install neuralink\n",
        "!pip install cirqUntitled-1\n",
        "Untitled-1\n",
        "import neuralink\n",
        "import cirq\n",
        "\n",
        "from sympy import symbols, Function, Derivative\n",
        "\n",
        "x, y = symbols('x y')\n",
        "f = Function('f')(x, y)\n",
        "d = Derivative(f, x, x, y)  # 3rd-order mixed partial\n",
        "print(d.doit())"
      ],
      "metadata": {
        "colab": {
          "base_uri": "https://localhost:8080/"
        },
        "id": "BjBfipPI9u0v",
        "outputId": "d07e4a1e-ca07-49da-8745-f9ffabe37b03"
      },
      "execution_count": null,
      "outputs": [
        {
          "output_type": "stream",
          "name": "stdout",
          "text": [
            "Collecting neuralink\n",
            "  Downloading neuralink-0.0.1-py3-none-any.whl.metadata (1.0 kB)\n",
            "Downloading neuralink-0.0.1-py3-none-any.whl (18 kB)\n",
            "Installing collected packages: neuralink\n",
            "Successfully installed neuralink-0.0.1\n",
            "Collecting cirq\n",
            "  Downloading cirq-1.6.0-py3-none-any.whl.metadata (16 kB)\n",
            "Collecting cirq-aqt==1.6.0 (from cirq)\n",
            "  Downloading cirq_aqt-1.6.0-py3-none-any.whl.metadata (4.7 kB)\n",
            "Requirement already satisfied: cirq-core==1.6.0 in /usr/local/lib/python3.11/dist-packages (from cirq) (1.6.0)\n",
            "Collecting cirq-google==1.6.0 (from cirq)\n",
            "  Downloading cirq_google-1.6.0-py3-none-any.whl.metadata (4.9 kB)\n",
            "Collecting cirq-ionq==1.6.0 (from cirq)\n",
            "  Downloading cirq_ionq-1.6.0-py3-none-any.whl.metadata (4.7 kB)\n",
            "Collecting cirq-pasqal==1.6.0 (from cirq)\n",
            "  Downloading cirq_pasqal-1.6.0-py3-none-any.whl.metadata (4.7 kB)\n",
            "Collecting cirq-web==1.6.0 (from cirq)\n",
            "  Downloading cirq_web-1.6.0-py3-none-any.whl.metadata (5.4 kB)\n",
            "Requirement already satisfied: requests~=2.32 in /usr/local/lib/python3.11/dist-packages (from cirq-aqt==1.6.0->cirq) (2.32.3)\n",
            "Requirement already satisfied: attrs>=21.3.0 in /usr/local/lib/python3.11/dist-packages (from cirq-core==1.6.0->cirq) (25.3.0)\n",
            "Requirement already satisfied: duet>=0.2.8 in /usr/local/lib/python3.11/dist-packages (from cirq-core==1.6.0->cirq) (0.2.9)\n",
            "Requirement already satisfied: matplotlib~=3.8 in /usr/local/lib/python3.11/dist-packages (from cirq-core==1.6.0->cirq) (3.10.0)\n",
            "Requirement already satisfied: networkx~=3.4 in /usr/local/lib/python3.11/dist-packages (from cirq-core==1.6.0->cirq) (3.5)\n",
            "Requirement already satisfied: numpy>=1.26 in /usr/local/lib/python3.11/dist-packages (from cirq-core==1.6.0->cirq) (2.0.2)\n",
            "Requirement already satisfied: pandas~=2.1 in /usr/local/lib/python3.11/dist-packages (from cirq-core==1.6.0->cirq) (2.2.2)\n",
            "Requirement already satisfied: sortedcontainers~=2.0 in /usr/local/lib/python3.11/dist-packages (from cirq-core==1.6.0->cirq) (2.4.0)\n",
            "Requirement already satisfied: scipy~=1.12 in /usr/local/lib/python3.11/dist-packages (from cirq-core==1.6.0->cirq) (1.16.0)\n",
            "Requirement already satisfied: sympy in /usr/local/lib/python3.11/dist-packages (from cirq-core==1.6.0->cirq) (1.13.1)\n",
            "Requirement already satisfied: typing_extensions>=4.2 in /usr/local/lib/python3.11/dist-packages (from cirq-core==1.6.0->cirq) (4.14.1)\n",
            "Requirement already satisfied: tqdm>=4.12 in /usr/local/lib/python3.11/dist-packages (from cirq-core==1.6.0->cirq) (4.67.1)\n",
            "Requirement already satisfied: google-api-core~=2.22 in /usr/local/lib/python3.11/dist-packages (from google-api-core[grpc]~=2.22->cirq-google==1.6.0->cirq) (2.25.1)\n",
            "Requirement already satisfied: proto-plus~=1.25 in /usr/local/lib/python3.11/dist-packages (from cirq-google==1.6.0->cirq) (1.26.1)\n",
            "Requirement already satisfied: protobuf<6.0dev,>=5.26.1 in /usr/local/lib/python3.11/dist-packages (from cirq-google==1.6.0->cirq) (5.29.5)\n",
            "Collecting typedunits (from cirq-google==1.6.0->cirq)\n",
            "  Downloading typedunits-0.0.1.dev20250509200845-cp311-cp311-manylinux_2_17_x86_64.manylinux2014_x86_64.whl.metadata (4.8 kB)\n",
            "Requirement already satisfied: googleapis-common-protos<2.0.0,>=1.56.2 in /usr/local/lib/python3.11/dist-packages (from google-api-core~=2.22->google-api-core[grpc]~=2.22->cirq-google==1.6.0->cirq) (1.70.0)\n",
            "Requirement already satisfied: google-auth<3.0.0,>=2.14.1 in /usr/local/lib/python3.11/dist-packages (from google-api-core~=2.22->google-api-core[grpc]~=2.22->cirq-google==1.6.0->cirq) (2.38.0)\n",
            "Requirement already satisfied: grpcio<2.0.0,>=1.33.2 in /usr/local/lib/python3.11/dist-packages (from google-api-core[grpc]~=2.22->cirq-google==1.6.0->cirq) (1.74.0)\n",
            "Requirement already satisfied: grpcio-status<2.0.0,>=1.33.2 in /usr/local/lib/python3.11/dist-packages (from google-api-core[grpc]~=2.22->cirq-google==1.6.0->cirq) (1.71.2)\n",
            "Requirement already satisfied: contourpy>=1.0.1 in /usr/local/lib/python3.11/dist-packages (from matplotlib~=3.8->cirq-core==1.6.0->cirq) (1.3.2)\n",
            "Requirement already satisfied: cycler>=0.10 in /usr/local/lib/python3.11/dist-packages (from matplotlib~=3.8->cirq-core==1.6.0->cirq) (0.12.1)\n",
            "Requirement already satisfied: fonttools>=4.22.0 in /usr/local/lib/python3.11/dist-packages (from matplotlib~=3.8->cirq-core==1.6.0->cirq) (4.59.0)\n",
            "Requirement already satisfied: kiwisolver>=1.3.1 in /usr/local/lib/python3.11/dist-packages (from matplotlib~=3.8->cirq-core==1.6.0->cirq) (1.4.8)\n",
            "Requirement already satisfied: packaging>=20.0 in /usr/local/lib/python3.11/dist-packages (from matplotlib~=3.8->cirq-core==1.6.0->cirq) (25.0)\n",
            "Requirement already satisfied: pillow>=8 in /usr/local/lib/python3.11/dist-packages (from matplotlib~=3.8->cirq-core==1.6.0->cirq) (11.3.0)\n",
            "Requirement already satisfied: pyparsing>=2.3.1 in /usr/local/lib/python3.11/dist-packages (from matplotlib~=3.8->cirq-core==1.6.0->cirq) (3.2.3)\n",
            "Requirement already satisfied: python-dateutil>=2.7 in /usr/local/lib/python3.11/dist-packages (from matplotlib~=3.8->cirq-core==1.6.0->cirq) (2.9.0.post0)\n",
            "Requirement already satisfied: pytz>=2020.1 in /usr/local/lib/python3.11/dist-packages (from pandas~=2.1->cirq-core==1.6.0->cirq) (2025.2)\n",
            "Requirement already satisfied: tzdata>=2022.7 in /usr/local/lib/python3.11/dist-packages (from pandas~=2.1->cirq-core==1.6.0->cirq) (2025.2)\n",
            "Requirement already satisfied: charset-normalizer<4,>=2 in /usr/local/lib/python3.11/dist-packages (from requests~=2.32->cirq-aqt==1.6.0->cirq) (3.4.2)\n",
            "Requirement already satisfied: idna<4,>=2.5 in /usr/local/lib/python3.11/dist-packages (from requests~=2.32->cirq-aqt==1.6.0->cirq) (3.10)\n",
            "Requirement already satisfied: urllib3<3,>=1.21.1 in /usr/local/lib/python3.11/dist-packages (from requests~=2.32->cirq-aqt==1.6.0->cirq) (2.5.0)\n",
            "Requirement already satisfied: certifi>=2017.4.17 in /usr/local/lib/python3.11/dist-packages (from requests~=2.32->cirq-aqt==1.6.0->cirq) (2025.7.14)\n",
            "Requirement already satisfied: mpmath<1.4,>=1.1.0 in /usr/local/lib/python3.11/dist-packages (from sympy->cirq-core==1.6.0->cirq) (1.3.0)\n",
            "Requirement already satisfied: cython>=3.0.0 in /usr/local/lib/python3.11/dist-packages (from typedunits->cirq-google==1.6.0->cirq) (3.0.12)\n",
            "Requirement already satisfied: cachetools<6.0,>=2.0.0 in /usr/local/lib/python3.11/dist-packages (from google-auth<3.0.0,>=2.14.1->google-api-core~=2.22->google-api-core[grpc]~=2.22->cirq-google==1.6.0->cirq) (5.5.2)\n",
            "Requirement already satisfied: pyasn1-modules>=0.2.1 in /usr/local/lib/python3.11/dist-packages (from google-auth<3.0.0,>=2.14.1->google-api-core~=2.22->google-api-core[grpc]~=2.22->cirq-google==1.6.0->cirq) (0.4.2)\n",
            "Requirement already satisfied: rsa<5,>=3.1.4 in /usr/local/lib/python3.11/dist-packages (from google-auth<3.0.0,>=2.14.1->google-api-core~=2.22->google-api-core[grpc]~=2.22->cirq-google==1.6.0->cirq) (4.9.1)\n",
            "Requirement already satisfied: six>=1.5 in /usr/local/lib/python3.11/dist-packages (from python-dateutil>=2.7->matplotlib~=3.8->cirq-core==1.6.0->cirq) (1.17.0)\n",
            "Requirement already satisfied: pyasn1<0.7.0,>=0.6.1 in /usr/local/lib/python3.11/dist-packages (from pyasn1-modules>=0.2.1->google-auth<3.0.0,>=2.14.1->google-api-core~=2.22->google-api-core[grpc]~=2.22->cirq-google==1.6.0->cirq) (0.6.1)\n",
            "Downloading cirq-1.6.0-py3-none-any.whl (11 kB)\n",
            "Downloading cirq_aqt-1.6.0-py3-none-any.whl (32 kB)\n",
            "Downloading cirq_google-1.6.0-py3-none-any.whl (670 kB)\n",
            "\u001b[2K   \u001b[90m━━━━━━━━━━━━━━━━━━━━━━━━━━━━━━━━━━━━━━━━\u001b[0m \u001b[32m670.8/670.8 kB\u001b[0m \u001b[31m13.9 MB/s\u001b[0m eta \u001b[36m0:00:00\u001b[0m\n",
            "\u001b[?25hDownloading cirq_ionq-1.6.0-py3-none-any.whl (73 kB)\n",
            "\u001b[2K   \u001b[90m━━━━━━━━━━━━━━━━━━━━━━━━━━━━━━━━━━━━━━━━\u001b[0m \u001b[32m73.5/73.5 kB\u001b[0m \u001b[31m6.0 MB/s\u001b[0m eta \u001b[36m0:00:00\u001b[0m\n",
            "\u001b[?25hDownloading cirq_pasqal-1.6.0-py3-none-any.whl (33 kB)\n",
            "Downloading cirq_web-1.6.0-py3-none-any.whl (430 kB)\n",
            "\u001b[2K   \u001b[90m━━━━━━━━━━━━━━━━━━━━━━━━━━━━━━━━━━━━━━━━\u001b[0m \u001b[32m430.5/430.5 kB\u001b[0m \u001b[31m23.3 MB/s\u001b[0m eta \u001b[36m0:00:00\u001b[0m\n",
            "\u001b[?25hDownloading typedunits-0.0.1.dev20250509200845-cp311-cp311-manylinux_2_17_x86_64.manylinux2014_x86_64.whl (2.8 MB)\n",
            "\u001b[2K   \u001b[90m━━━━━━━━━━━━━━━━━━━━━━━━━━━━━━━━━━━━━━━━\u001b[0m \u001b[32m2.8/2.8 MB\u001b[0m \u001b[31m63.1 MB/s\u001b[0m eta \u001b[36m0:00:00\u001b[0m\n",
            "\u001b[?25hInstalling collected packages: typedunits, cirq-web, cirq-pasqal, cirq-ionq, cirq-aqt, cirq-google, cirq\n",
            "Successfully installed cirq-1.6.0 cirq-aqt-1.6.0 cirq-google-1.6.0 cirq-ionq-1.6.0 cirq-pasqal-1.6.0 cirq-web-1.6.0 typedunits-0.0.1.dev20250509200845\n",
            "\n",
            "Welcome to Neuralink!\n",
            "            .\n",
            "            ! r,|`\n",
            "             ]r'|\n",
            "           _gggg$g_\n",
            "      `,zzm$MMMMMM$mz'~'\n",
            "     ' ~~~~$MWCPUM$@~~~\n",
            "       .`-+$MMMMMM$+-`..\n",
            "            *$FQTP\n",
            "             1r |.\n",
            "            |'L\" |\n",
            "             '\n",
            "\n",
            "Derivative(f(x, y), (x, 2), y)\n"
          ]
        }
      ]
    },
    {
      "cell_type": "code",
      "source": [
        "import cirq\n",
        "import sympy\n",
        "import numpy as np\n",
        "import neuralink\n",
        "\n",
        "\n",
        "# Qubits\n",
        "q = cirq.NamedQubit(\"q\")\n",
        "\n",
        "# Symbols (parameters)\n",
        "x = sympy.Symbol('x')\n",
        "y = sympy.Symbol('y')\n",
        "\n",
        "# Parameterized circuit: acts like f(x, y)\n",
        "circuit = cirq.Circuit(\n",
        "    cirq.rx(x)(q),\n",
        "    cirq.ry(y)(q)from sympy import symbols, Function, Derivative\n",
        "from sympy import symbols, Function, Derivative\n",
        "\n",
        "x, y = symbols('x y')\n",
        "f = Function('f')(x, y)\n",
        "d = Derivative(f, x, x, y)  # 3rd-order mixed partial\n",
        "print(d.doit())\n",
        "\n",
        "# Parameter values\n",
        "param_vals = {x: np.pi/4, y: np.pi/6}\n",
        "res = sim.simulate(circuit, param_resolver=param_vals)\n",
        "\n",
        "print(\"Final state:\", res.final_state_vector)\n"
      ],
      "metadata": {
        "colab": {
          "base_uri": "https://localhost:8080/"
        },
        "id": "_uFlRP_k-L3C",
        "outputId": "5e015dbe-b9c9-484b-b0b5-f6585bd78cb3"
      },
      "execution_count": null,
      "outputs": [
        {
          "output_type": "stream",
          "name": "stdout",
          "text": [
            "Final state: [0.8923991 +0.09904576j 0.23911761-0.3696438j ]\n"
          ]
        }
      ]
    },
    {
      "cell_type": "code",
      "source": [
        "import cirq\n",
        "import numpy as np\n",
        "\n",
        "# Simulated 'neuralink' EEG signal\n",
        "def read_brain_signal():\n",
        "    # Simulated brainwave signal in range [0, π]\n",
        "    return np.pi * np.random.rand()\n",
        "\n",
        "# Setup qubits\n",
        "qubits = [cirq.NamedQubit(f'q{i}') for i in range(3)]\n",
        "\n",
        "# Read simulated brain signals (3 channels)\n",
        "signals = [read_brain_signal() for _ in qubits]\n",
        "\n",
        "# Build quantum circuit encoding those signals\n",
        "circuit = cirq.Circuit()\n",
        "for i, signal in enumerate(signals):\n",
        "    circuit.append(cirq.rx(signal)(qubits[i]))\n",
        "\n",
        "# Print circuit\n",
        "print(\"Neuralink-encoded circuit:\")\n",
        "print(circuit)\n",
        "\n",
        "# Simulate the circuit\n",
        "simulator = cirq.Simulator()\n",
        "result = simulator.simulate(circuit)\n",
        "print(\"\\nFinal brain state vector:\")\n",
        "print(result.final_state_vector)\n"
      ],
      "metadata": {
        "colab": {
          "base_uri": "https://localhost:8080/"
        },
        "id": "VmnLqtZr-iBj",
        "outputId": "1f4ab49d-ea9f-45b3-c5fb-381383d27c37"
      },
      "execution_count": null,
      "outputs": [
        {
          "output_type": "stream",
          "name": "stdout",
          "text": [
            "Neuralink-encoded circuit:\n",
            "q0: ───Rx(0.64π)────\n",
            "\n",
            "q1: ───Rx(0.864π)───\n",
            "\n",
            "q2: ───Rx(0.395π)───\n",
            "\n",
            "Final brain state vector:\n",
            "[ 0.09254427+0.j          0.        -0.06616166j  0.        -0.42625713j\n",
            " -0.30473933-0.j          0.        -0.14568669j -0.10415418-0.j\n",
            " -0.67103004-0.j         -0.        +0.47973216j]\n"
          ]
        }
      ]
    },
    {
      "cell_type": "code",
      "source": [
        "from sympy import symbols, Function, Derivative\n",
        "\n",
        "x, y = symbols('x y')\n",
        "f = Function('f')(x, y)\n",
        "d = Derivative(f, x, x, y)  # 3rd-order mixed partial\n",
        "print(d.doit())\n"
      ],
      "metadata": {
        "colab": {
          "base_uri": "https://localhost:8080/"
        },
        "id": "SMFOQzc1-noT",
        "outputId": "2bc18395-59a7-4b22-857d-210dd80682f9"
      },
      "execution_count": null,
      "outputs": [
        {
          "output_type": "stream",
          "name": "stdout",
          "text": [
            "Derivative(f(x, y), (x, 2), y)\n"
          ]
        }
      ]
    },
    {
      "cell_type": "code",
      "source": [
        "import cirq\n",
        "import qsimcirq\n",
        "\n",
        "qubit = cirq.GridQubit(0, 0)\n",
        "circuit = cirq.Circuit(cirq.X(qubit)**0.5, cirq.measure(qubit, key='m'))\n",
        "\n",
        "qsim_simulator = qsimcirq.QSimSimulator()\n",
        "result = qsim_simulator.run(circuit, repetitions=10)\n",
        "print(result)\n"
      ],
      "metadata": {
        "colab": {
          "base_uri": "https://localhost:8080/"
        },
        "id": "cj9BjsTY-pBf",
        "outputId": "d4b4ad66-d244-4c2c-a908-2b9c3039dacd"
      },
      "execution_count": null,
      "outputs": [
        {
          "output_type": "stream",
          "name": "stdout",
          "text": [
            "m=0001111111\n"
          ]
        }
      ]
    },
    {
      "cell_type": "code",
      "source": [
        "# Simulate `import neuralink` with synthetic signal generation\n",
        "import cirq\n",
        "import numpy as np\n",
        "\n",
        "# Simulated Neuralink brain interface\n",
        "class NeuralinkInterface:\n",
        "    def __init__(self, n_channels=3):\n",
        "        self.n_channels = n_channels\n",
        "\n",
        "    def read_brain_signal(self):\n",
        "        # Simulate EEG/LFP per channel in range [0, π]\n",
        "        return np.pi * np.random.rand(self.n_channels)\n",
        "\n",
        "# Cirq Quantum Brain Encoder\n",
        "class QuantumBrain:\n",
        "    def __init__(self, n_qubits):\n",
        "        self.qubits = [cirq.NamedQubit(f'q{i}') for i in range(n_qubits)]\n",
        "        self.circuit = cirq.Circuit()\n",
        "        self.simulator = cirq.Simulator()\n",
        "\n",
        "    def encode_signals(self, signals):\n",
        "        # Encode each signal into one qubit using Rx, Ry, Rz\n",
        "        for i, s in enumerate(signals):\n",
        "            q = self.qubits[i]\n",
        "            self.circuit.append([\n",
        "                cirq.rx(s)(q),\n",
        "                cirq.ry(s / 2)(q),\n",
        "                cirq.rz(s / 4)(q)\n",
        "            ])\n",
        "\n",
        "    def run(self):\n",
        "        result = self.simulator.simulate(self.circuit)\n",
        "        return result.final_state_vector\n",
        "\n",
        "    def display(self):\n",
        "        print(\"Quantum Brain Circuit:\")\n",
        "        print(self.circuit)\n",
        "\n",
        "# Main Integration\n",
        "if __name__ == '__main__':\n",
        "    # Create Neuralink reader and read simulated brain signals\n",
        "    neuralink = NeuralinkInterface(n_channels=3)\n",
        "    brain_signals = neuralink.read_brain_signal()\n",
        "    print(\"Simulated Neuralink Brain Signals (rad):\", brain_signals)\n",
        "\n",
        "    # Initialize Quantum Brain and encode brain state\n",
        "    brain = QuantumBrain(n_qubits=3)\n",
        "    brain.encode_signals(brain_signals)\n",
        "    brain.display()\n",
        "\n",
        "    # Simulate and display final state\n",
        "    final_state = brain.run()\n",
        "    print(\"\\nQuantum Brain State Vector:\")\n",
        "    print(final_state)\n"
      ],
      "metadata": {
        "colab": {
          "base_uri": "https://localhost:8080/"
        },
        "id": "0BBU6sBU-siL",
        "outputId": "0dfebd3c-0b64-48a0-87b5-ad0fc5cdd04c"
      },
      "execution_count": null,
      "outputs": [
        {
          "output_type": "stream",
          "name": "stdout",
          "text": [
            "Simulated Neuralink Brain Signals (rad): [1.28763594 0.53684485 2.50484289]\n",
            "Quantum Brain Circuit:\n",
            "q0: ───Rx(0.41π)────Ry(0.205π)───Rz(0.102π)───\n",
            "\n",
            "q1: ───Rx(0.171π)───Ry(0.085π)───Rz(0.043π)───\n",
            "\n",
            "q2: ───Rx(0.797π)───Ry(0.399π)───Rz(0.199π)───\n",
            "\n",
            "Quantum Brain State Vector:\n",
            "[ 0.28988975+0.35387555j  0.33477077-0.48780674j  0.13883816-0.01856286j\n",
            " -0.07319433-0.16571409j  0.35778442-0.06936739j -0.21535969-0.41926727j\n",
            "  0.03951162-0.10436566j -0.14387769-0.01137611j]\n"
          ]
        }
      ]
    }
  ]
}